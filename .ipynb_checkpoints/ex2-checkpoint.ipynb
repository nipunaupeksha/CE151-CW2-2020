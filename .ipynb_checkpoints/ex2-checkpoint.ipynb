{
 "cells": [
  {
   "cell_type": "code",
   "execution_count": 1,
   "metadata": {},
   "outputs": [],
   "source": [
    "import random"
   ]
  },
  {
   "cell_type": "code",
   "execution_count": 4,
   "metadata": {},
   "outputs": [],
   "source": [
    "def bubbleSort(arr): \n",
    "    n = len(arr) \n",
    "    for i in range(n-1): \n",
    "        for j in range(0, n-i-1): \n",
    "            if arr[j] > arr[j+1] : \n",
    "                arr[j], arr[j+1] = arr[j+1], arr[j] \n",
    "    return arr"
   ]
  },
  {
   "cell_type": "code",
   "execution_count": 9,
   "metadata": {},
   "outputs": [],
   "source": [
    "def listMaker():\n",
    "    l1 = []\n",
    "    l2 = []\n",
    "    for i in range(15):\n",
    "        l1.append(random.randint(0,100))\n",
    "        l2.append(random.randint(0,100))\n",
    "    #can either use bubble sort or list sorting\n",
    "    l1 = bubbleSort(l1)\n",
    "    l2 = bubbleSort(l2)\n",
    "    l3 = l1+l2\n",
    "    l3 = bubbleSort(l3)\n",
    "    print(l3)"
   ]
  },
  {
   "cell_type": "code",
   "execution_count": 15,
   "metadata": {},
   "outputs": [],
   "source": [
    "def stringSorter(text):\n",
    "    l = list(text)\n",
    "    l.sort()\n",
    "    l = ''.join(l)\n",
    "    print(l)"
   ]
  },
  {
   "cell_type": "code",
   "execution_count": 18,
   "metadata": {},
   "outputs": [
    {
     "name": "stdout",
     "output_type": "stream",
     "text": [
      "[1, 5, 7, 8, 25, 29, 38, 40, 49, 58, 59, 64, 70, 82, 83]\n",
      "[6, 37, 39, 46, 49, 51, 52, 56, 56, 71, 78, 87, 87, 89, 94]\n",
      "[1, 5, 6, 7, 8, 25, 29, 37, 38, 39, 40, 46, 49, 49, 51, 52, 56, 56, 58, 59, 64, 70, 71, 78, 82, 83, 87, 87, 89, 94]\n",
      "Input a string to be sorted: 7895431556\n",
      "1345556789\n"
     ]
    }
   ],
   "source": [
    "listMaker()\n",
    "text = input(\"Input a string to be sorted: \")\n",
    "stringSorter(text)"
   ]
  },
  {
   "cell_type": "code",
   "execution_count": null,
   "metadata": {},
   "outputs": [],
   "source": []
  }
 ],
 "metadata": {
  "kernelspec": {
   "display_name": "Python 3",
   "language": "python",
   "name": "python3"
  },
  "language_info": {
   "codemirror_mode": {
    "name": "ipython",
    "version": 3
   },
   "file_extension": ".py",
   "mimetype": "text/x-python",
   "name": "python",
   "nbconvert_exporter": "python",
   "pygments_lexer": "ipython3",
   "version": "3.8.3"
  }
 },
 "nbformat": 4,
 "nbformat_minor": 4
}
