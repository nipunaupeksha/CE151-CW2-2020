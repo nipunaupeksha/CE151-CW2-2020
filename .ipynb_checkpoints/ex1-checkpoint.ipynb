{
 "cells": [
  {
   "cell_type": "code",
   "execution_count": 8,
   "metadata": {},
   "outputs": [],
   "source": [
    "def isPalindrome(text1, text2):\n",
    "    text1 = text1.replace(\" \",\"\")\n",
    "    text2 = text2.replace(\" \",\"\")\n",
    "    text3 = text1[::-1]\n",
    "    text4 = text2[::-1]\n",
    "    \n",
    "    if text1==text3 and text2==text4:\n",
    "        return True\n",
    "    else:\n",
    "        return False"
   ]
  },
  {
   "cell_type": "code",
   "execution_count": 5,
   "metadata": {},
   "outputs": [],
   "source": [
    "def isPalindromeIgnoreCase(text1):\n",
    "    text1 = text1.replace(\" \",\"\")\n",
    "    text1 = text1.casefold()\n",
    "    text2 = text1[::-1]\n",
    "    \n",
    "    return text1==text2"
   ]
  },
  {
   "cell_type": "code",
   "execution_count": 11,
   "metadata": {},
   "outputs": [
    {
     "name": "stdout",
     "output_type": "stream",
     "text": [
      "Input first stringRotor\n",
      "Input second stringrotor\n",
      "Either one string or both of them are not palindromes\n",
      "Input a sentenceNever odd or even\n",
      "The sentence is palindromic\n"
     ]
    }
   ],
   "source": [
    "text1 = input(\"Input first string: \")\n",
    "text2 = input(\"Input second string: \")\n",
    "b = isPalindrome(text1,text2)\n",
    "if b==True:\n",
    "    print(\"Both strings are palindromes\")\n",
    "else:\n",
    "    print(\"Either one string or both of them are not palindromes\")\n",
    "    \n",
    "text3 = input(\"Input a sentence: \")\n",
    "b = isPalindromeIgnoreCase(text3)\n",
    "if b==True:\n",
    "    print(\"The sentence is palindromic\")\n",
    "else:\n",
    "    print(\"The sentence is not palindromic\")"
   ]
  },
  {
   "cell_type": "code",
   "execution_count": null,
   "metadata": {},
   "outputs": [],
   "source": []
  }
 ],
 "metadata": {
  "kernelspec": {
   "display_name": "Python 3",
   "language": "python",
   "name": "python3"
  },
  "language_info": {
   "codemirror_mode": {
    "name": "ipython",
    "version": 3
   },
   "file_extension": ".py",
   "mimetype": "text/x-python",
   "name": "python",
   "nbconvert_exporter": "python",
   "pygments_lexer": "ipython3",
   "version": "3.8.3"
  }
 },
 "nbformat": 4,
 "nbformat_minor": 4
}
