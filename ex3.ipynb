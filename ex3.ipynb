{
 "cells": [
  {
   "cell_type": "code",
   "execution_count": 1,
   "metadata": {},
   "outputs": [],
   "source": [
    "from re import sub\n",
    "from decimal import Decimal\n",
    "#pip install prettytable\n",
    "from prettytable import PrettyTable"
   ]
  },
  {
   "cell_type": "code",
   "execution_count": 2,
   "metadata": {},
   "outputs": [],
   "source": [
    "def tupleCreation(text):\n",
    "    t = text.strip().split(\" \")\n",
    "    \n",
    "    team = t[0]\n",
    "    position = t[1]\n",
    "    first_name=t[2]\n",
    "    last_name=t[3]\n",
    "    salary=t[4]\n",
    "    \n",
    "    validation = False\n",
    "    \n",
    "    if (len(team)<=15 and len(position)<=15 and len(first_name)<=15 and len(last_name)<=15) and len(salary)<=10:\n",
    "        validation = True\n",
    "    if validation==True:\n",
    "        t = (last_name, first_name, salary, position, team)\n",
    "        return t\n",
    "    else:\n",
    "        return False\n",
    "    "
   ]
  },
  {
   "cell_type": "code",
   "execution_count": 3,
   "metadata": {},
   "outputs": [],
   "source": [
    "def option_1(content):\n",
    "    last_name = input(\"Input the last name of a player: \")\n",
    "    last_name=last_name.casefold()\n",
    "    t = PrettyTable()\n",
    "    t.field_names = [\"Last Name\", \"First Name\",\"Salary\", \"Position\", \"Team\"]\n",
    "    for item in content:\n",
    "        if last_name == item[0].casefold():\n",
    "            t.add_row(item)\n",
    "    print(t)"
   ]
  },
  {
   "cell_type": "code",
   "execution_count": 4,
   "metadata": {},
   "outputs": [],
   "source": [
    "def option_2(content):\n",
    "    lower = input(\"Input the lower range of salary: \")\n",
    "    lower = Decimal(sub(r'[^\\d.]', '', lower))\n",
    "    upper = input(\"Input the upper range of salary: \")\n",
    "    upper = Decimal(sub(r'[^\\d.]', '', upper))\n",
    "    \n",
    "    t = PrettyTable();\n",
    "    t.field_names = [\"Last Name\", \"First Name\",\"Salary\", \"Position\", \"Team\"]\n",
    "    \n",
    "\n",
    "    for item in content:\n",
    "        salary = Decimal(sub(r'[^\\d.]', '', item[2]))\n",
    "        if salary<=upper and salary>=lower:\n",
    "            t.add_row(item)\n",
    "            \n",
    "    print(t)"
   ]
  },
  {
   "cell_type": "code",
   "execution_count": 5,
   "metadata": {},
   "outputs": [],
   "source": [
    "def option_3(content):\n",
    "    team = input(\"Input the team name: \")\n",
    "    team = team.casefold()\n",
    "    \n",
    "    t = PrettyTable();\n",
    "    t.field_names = [\"Last Name\", \"First Name\"]\n",
    "    \n",
    "    for item in content:\n",
    "        if team == item[4].casefold():\n",
    "            t.add_row([item[0],item[1]])\n",
    "    \n",
    "    print(t)"
   ]
  },
  {
   "cell_type": "code",
   "execution_count": 7,
   "metadata": {},
   "outputs": [],
   "source": [
    "def option_4(content):\n",
    "    position = input(\"Input position: \")\n",
    "    position = position.casefold()\n",
    "    team = input(\"Input team: \")\n",
    "    team = team.casefold()\n",
    "    \n",
    "    t = PrettyTable()\n",
    "    t.field_names = [\"Last Name\", \"First Name\",\"Salary\", \"Position\", \"Team\"]\n",
    "    \n",
    "    for item in content:\n",
    "        if position == item[3].casefold() and team == item[4].casefold():\n",
    "            t.add_row(item)\n",
    "    \n",
    "    print(t)"
   ]
  },
  {
   "cell_type": "code",
   "execution_count": 8,
   "metadata": {},
   "outputs": [],
   "source": [
    "def option_5(content):\n",
    "    position = input(\"Input position: \")\n",
    "    position = position.casefold()\n",
    "    lower = input(\"Input the lower range of salary: \")\n",
    "    lower = Decimal(sub(r'[^\\d.]', '', lower))\n",
    "    upper = input(\"Input the upper range of salary: \")\n",
    "    upper = Decimal(sub(r'[^\\d.]', '', upper))\n",
    "    \n",
    "    t = PrettyTable();\n",
    "    t.field_names = [\"Last Name\", \"First Name\",\"Salary\", \"Position\", \"Team\"]\n",
    "    \n",
    "\n",
    "    for item in content:\n",
    "        salary = Decimal(sub(r'[^\\d.]', '', item[2]))\n",
    "        if (salary<=upper and salary>=lower) and position == item[3].casefold():\n",
    "            t.add_row(item)\n",
    "    \n",
    "    print(t)"
   ]
  },
  {
   "cell_type": "code",
   "execution_count": 9,
   "metadata": {},
   "outputs": [],
   "source": [
    "def option_6():\n",
    "    last_name = input(\"Input last name: \")\n",
    "    first_name = input(\"Input first name: \")\n",
    "    salary = input(\"Input salary: \")\n",
    "    position = input(\"Input position: \")\n",
    "    team = input(\"Input team: \")\n",
    "    \n",
    "    validation = False\n",
    "    \n",
    "    if (len(team)<=15 and len(position)<=15 and len(first_name)<=15 and len(last_name)<=15) and len(salary)<=10:\n",
    "        validation = True\n",
    "    if validation==True:\n",
    "        t = (last_name, first_name, salary, position, team)\n",
    "        return t\n",
    "    else:\n",
    "        return False"
   ]
  },
  {
   "cell_type": "code",
   "execution_count": 15,
   "metadata": {},
   "outputs": [],
   "source": [
    "def printFullTable(content):\n",
    "    t = PrettyTable()\n",
    "    t.field_names = [\"Last Name\", \"First Name\",\"Salary\", \"Position\", \"Team\"]\n",
    "    for item in content:\n",
    "        t.add_row(item)\n",
    "        \n",
    "    print(t)"
   ]
  },
  {
   "cell_type": "code",
   "execution_count": 17,
   "metadata": {},
   "outputs": [
    {
     "name": "stdout",
     "output_type": "stream",
     "text": [
      "Input filename to be read: file.txt\n",
      "+------------+------------+------------+------------+---------+\n",
      "| Last Name  | First Name |   Salary   |  Position  |   Team  |\n",
      "+------------+------------+------------+------------+---------+\n",
      "|   Green    |   Robert   | 10,000,000 | Goalkeeper | Chelsea |\n",
      "| Zappacosta |   Davide   | 20,000,000 | Right-back | Chelsea |\n",
      "| Lacazette  | Alexandre  | 30,000,000 |  Forward   | Arsenal |\n",
      "| Mkhitaryan |  Henrikh   | 15,000,000 | Midfielder | Arsenal |\n",
      "+------------+------------+------------+------------+---------+\n",
      "1. Display Full Details of the player with a given last name \n",
      "2. Display full details of all players with a salary in particular range.\n",
      "3. Display first and last names of all players of a team.\n",
      "4. Display full details of a certain position and a team\n",
      "5. Display full details of a certain position and a salary in particular range.\n",
      "6. Add a player to the list\n",
      "7. Quit\n",
      "Enter a number: 7\n",
      "Quitting ...\n"
     ]
    }
   ],
   "source": [
    "try:\n",
    "    content = []\n",
    "    \n",
    "    userInput = input(\"Input filename to be read: \")\n",
    "    filename = open(userInput)\n",
    "    lines = filename.readlines()\n",
    "    \n",
    "    for line in lines:\n",
    "        val = tupleCreation(line)\n",
    "        if type(val)!=bool:\n",
    "            content.append(val)\n",
    "\n",
    "    printFullTable(content)\n",
    "    userOptions =[\n",
    "        \"1. Display Full Details of the player with a given last name \",\n",
    "        \"2. Display full details of all players with a salary in particular range.\",\n",
    "        \"3. Display first and last names of all players of a team.\",\n",
    "        \"4. Display full details of a certain position and a team\",\n",
    "        \"5. Display full details of a certain position and a salary in particular range.\",\n",
    "        \"6. Add a player to the list\",\n",
    "        \"7. Quit\"\n",
    "    ]\n",
    "    \n",
    "    val =\"0\"\n",
    "    while(val!=\"7\"):\n",
    "        for option in userOptions:\n",
    "            print(option)\n",
    "        val = input(\"Enter a number: \")\n",
    "        if val == \"1\": \n",
    "            option_1(content)\n",
    "        elif val ==\"2\":\n",
    "            option_2(content)\n",
    "        elif val ==\"3\":\n",
    "            option_3(content)\n",
    "        elif val ==\"4\":\n",
    "            option_4(content)\n",
    "        elif val ==\"5\":\n",
    "            option_5(content)\n",
    "        elif val ==\"6\":\n",
    "            x = option_6()\n",
    "            if type(x)!=bool:\n",
    "                content.append(x)\n",
    "            printFullTable(content)\n",
    "        elif val ==\"7\":\n",
    "            print(\"Quitting ...\")\n",
    "            break\n",
    "                \n",
    "    \n",
    "except FileNotFoundError:\n",
    "    print(\"Error opening file\")"
   ]
  },
  {
   "cell_type": "code",
   "execution_count": null,
   "metadata": {},
   "outputs": [],
   "source": []
  }
 ],
 "metadata": {
  "kernelspec": {
   "display_name": "Python 3",
   "language": "python",
   "name": "python3"
  },
  "language_info": {
   "codemirror_mode": {
    "name": "ipython",
    "version": 3
   },
   "file_extension": ".py",
   "mimetype": "text/x-python",
   "name": "python",
   "nbconvert_exporter": "python",
   "pygments_lexer": "ipython3",
   "version": "3.8.3"
  }
 },
 "nbformat": 4,
 "nbformat_minor": 4
}
